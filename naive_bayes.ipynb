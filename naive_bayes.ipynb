{
 "cells": [
  {
   "cell_type": "code",
   "execution_count": 2,
   "metadata": {},
   "outputs": [],
   "source": [
    "import pandas as pd\n",
    "import numpy as np\n",
    "import cv2\n",
    "import random\n",
    "import time\n",
    "\n",
    "from sklearn.cross_validation import train_test_split\n",
    "from sklearn.metrics import accuracy_score"
   ]
  },
  {
   "cell_type": "code",
   "execution_count": 3,
   "metadata": {
    "collapsed": true
   },
   "outputs": [],
   "source": [
    "def binaryzation(img):\n",
    "    cv_img = img.astype(np.uint8)\n",
    "    cv2.threshold(cv_img,50,1,cv2.THRESH_BINARY_INV,cv_img)\n",
    "    return cv_img"
   ]
  },
  {
   "cell_type": "code",
   "execution_count": 4,
   "metadata": {
    "collapsed": true
   },
   "outputs": [],
   "source": [
    "def calculate_probability(img,label):\n",
    "    probability = int(prior_probability[label])\n",
    "    for i in range(len(img)):\n",
    "        probability *= int(cond_probability[label][i][img[i]])\n",
    "    return probability"
   ]
  },
  {
   "cell_type": "code",
   "execution_count": 5,
   "metadata": {
    "collapsed": true
   },
   "outputs": [],
   "source": [
    "def Train(trainset,train_labels):\n",
    "    prior_probability = np.zeros(class_num)\n",
    "    cond_probability = np.zeros((class_num,feature_len,2))\n",
    "    \n",
    "    for i in range(len(train_labels)):\n",
    "        img = binaryzation(trainset[i])\n",
    "        label = train_labels[i]\n",
    "        prior_probability[label] += 1\n",
    "        \n",
    "        for j in range(feature_len):\n",
    "            cond_probability[label][j][img[j]] += 1#统计的是第几类数字 的 第几维度特征 为0或者为1的数量 \n",
    "    \n",
    "    for i in range(class_num):\n",
    "        for j in range(feature_len):\n",
    "            pix_0 = cond_probability[i][j][0]\n",
    "            pix_1 = cond_probability[i][j][1]\n",
    "            \n",
    "            probability_0 = (float(pix_0)/float(pix_1+pix_0))*1000000 + 1\n",
    "            probability_1 = (float(pix_0)/float(pix_1+pix_0))*1000000 + 1\n",
    "            \n",
    "            cond_probability[i][j][0] = probability_0 \n",
    "            cond_probability[i][j][1] = probability_1\n",
    "            \n",
    "    return prior_probability,cond_probability\n",
    "        "
   ]
  },
  {
   "cell_type": "code",
   "execution_count": 6,
   "metadata": {
    "collapsed": true
   },
   "outputs": [],
   "source": [
    "def Predict(testset,prior_probability,cond_probability):\n",
    "    predict = []\n",
    "    for img in testset:\n",
    "        img = binaryzation(img)\n",
    "        max_label = 0\n",
    "        max_probability = calculate_probability(img,0)\n",
    "        for j in range(1,10):\n",
    "            probability = calculate_probability(img,j)\n",
    "            if max_probability < probability:\n",
    "                max_probability = probability\n",
    "                max_label = j\n",
    "        predict.append(max_label) \n",
    "    return predict"
   ]
  },
  {
   "cell_type": "code",
   "execution_count": 7,
   "metadata": {
    "collapsed": true
   },
   "outputs": [],
   "source": [
    "raw_data = pd.read_csv('data/train.csv',header=0)\n",
    "data = raw_data.values\n",
    "imgs = data[0::,1::]\n",
    "labels = data[::,0]\n",
    "train_feature,test_feature,train_label,test_label = train_test_split(imgs,labels,test_size = 0.33,random_state = 233)\n"
   ]
  },
  {
   "cell_type": "code",
   "execution_count": null,
   "metadata": {
    "collapsed": true
   },
   "outputs": [],
   "source": [
    "class_num = 10\n",
    "feature_len = 784"
   ]
  },
  {
   "cell_type": "code",
   "execution_count": null,
   "metadata": {
    "collapsed": true
   },
   "outputs": [],
   "source": [
    "prior_probability,cond_probability = Train(train_feature,train_label)"
   ]
  },
  {
   "cell_type": "code",
   "execution_count": null,
   "metadata": {
    "collapsed": true
   },
   "outputs": [],
   "source": [
    "predict = Predict(test_feature,prior_probability,cond_probability)"
   ]
  },
  {
   "cell_type": "code",
   "execution_count": null,
   "metadata": {
    "collapsed": true
   },
   "outputs": [],
   "source": [
    "score = accuracy_score(test_label,predict)\n",
    "print(score)"
   ]
  },
  {
   "cell_type": "code",
   "execution_count": null,
   "metadata": {
    "collapsed": true
   },
   "outputs": [],
   "source": []
  }
 ],
 "metadata": {
  "kernelspec": {
   "display_name": "Python 3",
   "language": "python",
   "name": "python3"
  },
  "language_info": {
   "codemirror_mode": {
    "name": "ipython",
    "version": 3
   },
   "file_extension": ".py",
   "mimetype": "text/x-python",
   "name": "python",
   "nbconvert_exporter": "python",
   "pygments_lexer": "ipython3",
   "version": "3.6.3"
  }
 },
 "nbformat": 4,
 "nbformat_minor": 2
}
